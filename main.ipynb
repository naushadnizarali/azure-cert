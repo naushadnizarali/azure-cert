{
 "cells": [
  {
   "cell_type": "code",
   "execution_count": 29,
   "metadata": {},
   "outputs": [],
   "source": [
    "from azure.ai.ml import MLClient\n",
    "from azure.identity import DefaultAzureCredential\n",
    "\n",
    "ml_client = MLClient(\n",
    "    DefaultAzureCredential(), \"1cd06a8a-488f-47a7-aa63-04886b616ae7\", \"azureml\"\n",
    ")"
   ]
  },
  {
   "cell_type": "code",
   "execution_count": 32,
   "metadata": {},
   "outputs": [
    {
     "name": "stdout",
     "output_type": "stream",
     "text": [
      "application_insights: /subscriptions/1cd06a8a-488f-47a7-aa63-04886b616ae7/resourceGroups/azureml/providers/Microsoft.insights/components/azuremlworkspa1241413792\n",
      "description: ''\n",
      "discovery_url: https://westus3.api.azureml.ms/discovery\n",
      "display_name: azuremlworkspace\n",
      "enable_data_isolation: false\n",
      "hbi_workspace: false\n",
      "id: /subscriptions/1cd06a8a-488f-47a7-aa63-04886b616ae7/resourceGroups/azureml/providers/Microsoft.MachineLearningServices/workspaces/azuremlworkspace\n",
      "identity:\n",
      "  principal_id: f4ce4871-490a-4a52-a963-265e89867575\n",
      "  tenant_id: 252f2d68-d627-4767-a22e-630c050eb6c3\n",
      "  type: system_assigned\n",
      "key_vault: /subscriptions/1cd06a8a-488f-47a7-aa63-04886b616ae7/resourceGroups/azureml/providers/Microsoft.Keyvault/vaults/azuremlworkspa6134470584\n",
      "location: westus3\n",
      "managed_network:\n",
      "  isolation_mode: disabled\n",
      "  outbound_rules: []\n",
      "mlflow_tracking_uri: azureml://westus3.api.azureml.ms/mlflow/v1.0/subscriptions/1cd06a8a-488f-47a7-aa63-04886b616ae7/resourceGroups/azureml/providers/Microsoft.MachineLearningServices/workspaces/azuremlworkspace\n",
      "name: azuremlworkspace\n",
      "public_network_access: Enabled\n",
      "resource_group: azureml\n",
      "storage_account: /subscriptions/1cd06a8a-488f-47a7-aa63-04886b616ae7/resourceGroups/azureml/providers/Microsoft.Storage/storageAccounts/azuremlworkspa6233129689\n",
      "tags: {}\n",
      "\n"
     ]
    }
   ],
   "source": [
    "wps = ml_client.workspaces.list()\n",
    "\n",
    "for wp in wps:\n",
    "    print(wp)"
   ]
  },
  {
   "cell_type": "code",
   "execution_count": 1,
   "metadata": {},
   "outputs": [],
   "source": [
    "from azure.ai.ml.entities import Workspace"
   ]
  },
  {
   "cell_type": "code",
   "execution_count": 4,
   "metadata": {},
   "outputs": [],
   "source": []
  }
 ],
 "metadata": {
  "kernelspec": {
   "display_name": ".venv",
   "language": "python",
   "name": "python3"
  },
  "language_info": {
   "codemirror_mode": {
    "name": "ipython",
    "version": 3
   },
   "file_extension": ".py",
   "mimetype": "text/x-python",
   "name": "python",
   "nbconvert_exporter": "python",
   "pygments_lexer": "ipython3",
   "version": "3.12.2"
  }
 },
 "nbformat": 4,
 "nbformat_minor": 2
}
